{
  "nbformat": 4,
  "nbformat_minor": 0,
  "metadata": {
    "colab": {
      "provenance": [],
      "gpuType": "T4"
    },
    "kernelspec": {
      "name": "python3",
      "display_name": "Python 3"
    },
    "language_info": {
      "name": "python"
    }
  },
  "cells": [
    {
      "source": [
        "from PIL import Image\n",
        "import requests\n",
        "from transformers import AutoImageProcessor, AutoModelForImageClassification\n",
        "\n",
        "processor = AutoImageProcessor.from_pretrained(\"Organika/sdxl-detector\")\n",
        "model = AutoModelForImageClassification.from_pretrained(\"Organika/sdxl-detector\")\n",
        "\n",
        "def get_prediction(image_url, convert_to_label=False):\n",
        "  \"\"\"\n",
        "  Predicts if an image is AI-generated or real.\n",
        "\n",
        "  Args:\n",
        "    image_url: The URL of the image to be classified.\n",
        "    convert_to_label: Whether to return the prediction as a label (reliable/fake) or an integer (0/1).\n",
        "\n",
        "  Returns:\n",
        "    The prediction as a label (reliable/fake) if convert_to_label is True, otherwise an integer (0/1).\n",
        "  \"\"\"\n",
        "  image = Image.open(requests.get(image_url, stream=True).raw).convert(\"RGB\") # Convert image to RGB format\n",
        "  inputs = processor(images=image, return_tensors=\"pt\").to(\"cpu\")\n",
        "  outputs = model(**inputs)\n",
        "  probs = outputs.logits.softmax(1)\n",
        "  d = {\n",
        "      0: \"fake\",\n",
        "      1: \"reliable\"\n",
        "  }\n",
        "  if convert_to_label:\n",
        "      return d[int(probs.argmax())]\n",
        "  else:\n",
        "      return int(probs.argmax())\n",
        "\n",
        "\n",
        "# Example usage with an image URL:\n",
        "image_url = \"https://images.unsplash.com/photo-1580128660010-fd027e1e587a?fm=jpg&q=60&w=3000&ixlib=rb-4.0.3&ixid=M3wxMjA3fDB8MHxzZWFyY2h8Mnx8ZG9uYWxkJTIwdHJ1bXB8ZW58MHx8MHx8fDA%3D\"  # Replace with your image URL\n",
        "prediction = get_prediction(image_url, convert_to_label=True)\n",
        "print(prediction)"
      ],
      "cell_type": "code",
      "metadata": {
        "colab": {
          "base_uri": "https://localhost:8080/"
        },
        "id": "k32j2KuVaUuX",
        "outputId": "275cd8a0-3d98-43b8-c949-fadd6a84fa9e"
      },
      "execution_count": 8,
      "outputs": [
        {
          "output_type": "stream",
          "name": "stdout",
          "text": [
            "reliable\n"
          ]
        }
      ]
    }
  ]
}